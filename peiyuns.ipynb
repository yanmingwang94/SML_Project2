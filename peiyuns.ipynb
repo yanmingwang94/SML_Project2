{
 "cells": [
  {
   "cell_type": "markdown",
   "metadata": {},
   "source": [
    "# COMP90051 Project 2"
   ]
  },
  {
   "cell_type": "code",
   "execution_count": 1,
   "metadata": {},
   "outputs": [],
   "source": [
    "# Do not edit. These are the only imports permitted.\n",
    "%matplotlib inline\n",
    "import numpy as np\n",
    "from numpy.linalg import inv\n",
    "import matplotlib.pyplot as plt\n",
    "from abc import ABC, abstractmethod"
   ]
  },
  {
   "cell_type": "markdown",
   "metadata": {},
   "source": [
    "## Load dataset"
   ]
  },
  {
   "cell_type": "code",
   "execution_count": 2,
   "metadata": {},
   "outputs": [],
   "source": [
    "arms = []\n",
    "rewards = []\n",
    "contexts = []\n",
    "\n",
    "with open(\"dataset.txt\", \"r\") as f:\n",
    "    for line in f:\n",
    "        row = line[:-2].split(\" \")\n",
    "        arms.append(int(row[0]))\n",
    "        rewards.append(int(row[1]))\n",
    "        contexts.append(np.array(row[2:], dtype='float64'))"
   ]
  },
  {
   "cell_type": "markdown",
   "metadata": {},
   "source": [
    "## 1. Implementing ε-Greedy and UCB"
   ]
  },
  {
   "cell_type": "code",
   "execution_count": 3,
   "metadata": {},
   "outputs": [],
   "source": [
    "class MAB(ABC):\n",
    "    \"\"\"\n",
    "    Abstract class that represents a multi-armed bandit (MAB)\n",
    "    \"\"\"\n",
    "    \n",
    "    @abstractmethod\n",
    "    def play(self, tround, context):\n",
    "        \"\"\"\n",
    "        Play a round\n",
    "        \n",
    "        Arguments\n",
    "        =========\n",
    "        tround : int\n",
    "            positive integer identifying the round\n",
    "        \n",
    "        context : 1D float array, shape (self.ndims * self.narms), optional\n",
    "            context given to the arms\n",
    "        \n",
    "        Returns\n",
    "        =======\n",
    "        arm : int\n",
    "            the positive integer arm id for this round\n",
    "        \"\"\"\n",
    "    \n",
    "    @abstractmethod\n",
    "    def update(self, arm, reward, context):\n",
    "        \"\"\"\n",
    "        Updates the internal state of the MAB after a play\n",
    "        \n",
    "        Arguments\n",
    "        =========\n",
    "        arm : int\n",
    "            a positive integer arm id in {1, ..., self.narms}\n",
    "        \n",
    "        reward : float\n",
    "            reward received from arm\n",
    "        \n",
    "        context : 1D float array, shape (self.ndims * self.narms), optional\n",
    "            context given to arms\n",
    "        \"\"\""
   ]
  },
  {
   "cell_type": "code",
   "execution_count": 4,
   "metadata": {},
   "outputs": [],
   "source": [
    "class EpsGreedy(MAB): # sub-class of abstract MAB base class\n",
    "    \"\"\"\n",
    "    Epsilon-Greedy multi-armed bandit\n",
    "\n",
    "    Arguments\n",
    "    =========\n",
    "    narms : int\n",
    "        number of arms\n",
    "\n",
    "    epsilon : float\n",
    "        explore probability\n",
    "\n",
    "    Q0 : float, optional\n",
    "        initial value for the arms\n",
    "    \"\"\"\n",
    "    \n",
    "    def __init__(self, narms, epsilon, Q0=np.inf):\n",
    "        # store params\n",
    "        self.narms = narms\n",
    "        self.epsilon = epsilon\n",
    "        self.Q0 = Q0\n",
    "        self.rewards = {}\n",
    "        \n",
    "        # initialise observed rewards as empty lists\n",
    "        for i in range(1, narms + 1):\n",
    "            self.rewards[i] = []\n",
    "        \n",
    "    def play(self, tround, context=None):\n",
    "        \n",
    "        # random number between 0 and 1\n",
    "        choice = np.random.random()\n",
    "        \n",
    "        if choice < self.epsilon:\n",
    "            # explore\n",
    "            return np.random.randint(1, self.narms + 1)\n",
    "        else:\n",
    "            # average reward for each arm\n",
    "            avg_rewards = {}  \n",
    "            for i in range(1, self.narms + 1):\n",
    "                if len(self.rewards[i]) == 0:  # never pulled\n",
    "                    # initial reward\n",
    "                    avg_rewards[i] = self.Q0\n",
    "                else:\n",
    "                    # get average\n",
    "                    avg_rewards[i] = np.mean(self.rewards[i])\n",
    "            \n",
    "            # exploit\n",
    "            max_item = max(avg_rewards.items(), key=lambda x : x[1])\n",
    "            \n",
    "            # find all arms with max avg rewards\n",
    "            all_keys = []\n",
    "            for key, value in avg_rewards.items():\n",
    "                if value == max_item[1]:\n",
    "                    all_keys.append(key)\n",
    "            \n",
    "            # break tie randomly\n",
    "            return np.random.choice(all_keys)\n",
    "        \n",
    "    def update(self, arm, reward, context=None):\n",
    "        \n",
    "        # record rewards\n",
    "        self.rewards[arm].append(reward)"
   ]
  },
  {
   "cell_type": "code",
   "execution_count": 5,
   "metadata": {},
   "outputs": [],
   "source": [
    "class UCB(MAB):\n",
    "    \"\"\"\n",
    "    Upper Confidence Bound (UCB) multi-armed bandit\n",
    "\n",
    "    Arguments\n",
    "    =========\n",
    "    narms : int\n",
    "        number of arms\n",
    "\n",
    "    rho : float\n",
    "        positive real explore-exploit parameter\n",
    "\n",
    "    Q0 : float, optional\n",
    "        initial value for the arms\n",
    "    \"\"\"\n",
    "    \n",
    "    def __init__(self, narms, rho, Q0=np.inf):\n",
    "        # store params\n",
    "        self.narms = narms\n",
    "        self.rho = rho\n",
    "        self.Q0 = Q0\n",
    "        self.rewards = {}\n",
    "        \n",
    "        # initialise observed rewards as empty lists\n",
    "        for i in range(1, narms + 1):\n",
    "            self.rewards[i] = []\n",
    "    \n",
    "    def play(self, tround, context=None):\n",
    "        \n",
    "        # UCBs for each arm\n",
    "        UCBs = {}\n",
    "        for i in range(1, self.narms + 1):\n",
    "            if len(self.rewards[i]) == 0:  # never pulled\n",
    "                # initial reward\n",
    "                UCBs[i] = self.Q0\n",
    "            else:\n",
    "                # calculate UCBs\n",
    "                UCBs[i] = np.mean(self.rewards[i]) + np.sqrt(self.rho * np.log(tround) / len(self.rewards[i]))\n",
    "        \n",
    "        # exploit\n",
    "        max_item = max(UCBs.items(), key=lambda x : x[1])\n",
    "\n",
    "        # find all arms with max UCBs\n",
    "        all_keys = []\n",
    "        for key, value in UCBs.items():\n",
    "            if value == max_item[1]:\n",
    "                all_keys.append(key)\n",
    "\n",
    "        # break tie randomly\n",
    "        return np.random.choice(all_keys)\n",
    "        \n",
    "        \n",
    "    def update(self, arm, reward, context=None):\n",
    "        \n",
    "        # record rewards\n",
    "        self.rewards[arm].append(reward)\n",
    "    "
   ]
  },
  {
   "cell_type": "markdown",
   "metadata": {},
   "source": [
    "## 2. The Basic Thompson Bandit"
   ]
  },
  {
   "cell_type": "code",
   "execution_count": 6,
   "metadata": {},
   "outputs": [],
   "source": [
    "class BetaThompson(MAB):\n",
    "    \"\"\"\n",
    "    Beta-Bernoulli Thompson sampling multi-armed bandit\n",
    "\n",
    "    Arguments\n",
    "    =========\n",
    "    narms : int\n",
    "        number of arms\n",
    "\n",
    "    alpha0 : float, optional\n",
    "        positive real prior hyperparameter\n",
    "\n",
    "    beta0 : float, optional\n",
    "        positive real prior hyperparameter\n",
    "    \"\"\"\n",
    "    \n",
    "    def __init__(self, narms, alpha0=1.0, beta0=1.0):\n",
    "        # store params\n",
    "        self.alpha0 = alpha0\n",
    "        self.beta0 = beta0\n",
    "        self.narms = narms\n",
    "        self.S = {}  # num of successes for each arm\n",
    "        self.F = {}  # num of failures for each arm\n",
    "        \n",
    "        # initialise S and F for each arm as 0\n",
    "        for i in range(1, narms + 1):\n",
    "            self.S[i] = 0\n",
    "            self.F[i] = 0\n",
    "    \n",
    "    def play(self, tround, context=None):\n",
    "        \n",
    "        # get samples from each distribution\n",
    "        theta = {}\n",
    "        for i in range(1, self.narms + 1):    \n",
    "            theta[i] = np.random.beta(self.alpha0 + self.S[i], self.beta0 + self.F[i])\n",
    "            \n",
    "        # exploit\n",
    "        max_item = max(theta.items(), key=lambda x : x[1])\n",
    "\n",
    "        # find all arms with max thetas\n",
    "        all_keys = []\n",
    "        for key, value in theta.items():\n",
    "            if value == max_item[1]:\n",
    "                all_keys.append(key)\n",
    "\n",
    "        return np.random.choice(all_keys)\n",
    "        \n",
    "    def update(self, arm, reward, context=None):\n",
    "        if reward == 1:\n",
    "            self.S[arm] += 1\n",
    "        else:\n",
    "            self.F[arm] += 1"
   ]
  },
  {
   "cell_type": "markdown",
   "metadata": {},
   "source": [
    "## 3. Off-Policy Evaluation"
   ]
  },
  {
   "cell_type": "code",
   "execution_count": 7,
   "metadata": {},
   "outputs": [],
   "source": [
    "def offlineEvaluate(mab, arms, rewards, contexts, nrounds=None):\n",
    "    \"\"\"\n",
    "    Offline evaluation of a multi-armed bandit\n",
    "    \n",
    "    Arguments\n",
    "    =========\n",
    "    mab : instance of MAB\n",
    "    \n",
    "    arms : 1D int array, shape (nevents,) \n",
    "        integer arm id for each event\n",
    "    \n",
    "    rewards : 1D float array, shape (nevents,)\n",
    "        reward received for each event\n",
    "    \n",
    "    contexts : 2D float array, shape (nevents, mab.narms*nfeatures)\n",
    "        contexts presented to the arms (stacked horizontally) \n",
    "        for each event.\n",
    "        \n",
    "    nrounds : int, optional\n",
    "        number of matching events to evaluate `mab` on.\n",
    "    \n",
    "    Returns\n",
    "    =======\n",
    "    out : 1D float array\n",
    "        rewards for the matching events\n",
    "    \"\"\"\n",
    "    \n",
    "    stream_idx = -1\n",
    "    nevents = len(rewards) # num of logged events\n",
    "    mab_rewards = []\n",
    "    \n",
    "    for tround in range(1, nrounds + 1):\n",
    "        \n",
    "        # get next event\n",
    "        stream_idx += 1\n",
    "        stream_idx = stream_idx % nevents\n",
    "        \n",
    "        selected_arm = mab.play(tround, contexts[stream_idx])\n",
    "        \n",
    "        # play until both policies get same arm\n",
    "        while(selected_arm != arms[stream_idx]):\n",
    "            \n",
    "            # get next event\n",
    "            stream_idx += 1\n",
    "            stream_idx = stream_idx % nevents\n",
    "            \n",
    "            # play again\n",
    "            selected_arm = mab.play(tround, contexts[stream_idx])\n",
    "        \n",
    "        # update history and store reward\n",
    "        mab.update(arms[stream_idx], rewards[stream_idx], contexts[stream_idx])\n",
    "        mab_rewards.append(rewards[stream_idx])\n",
    "        \n",
    "    return mab_rewards"
   ]
  },
  {
   "cell_type": "code",
   "execution_count": 8,
   "metadata": {},
   "outputs": [
    {
     "name": "stdout",
     "output_type": "stream",
     "text": [
      "EpsGreedy average reward 0.19375\n"
     ]
    }
   ],
   "source": [
    "mab = EpsGreedy(10, 0.05)\n",
    "results_EpsGreedy = offlineEvaluate(mab, arms, rewards, contexts, 800)\n",
    "print('EpsGreedy average reward', np.mean(results_EpsGreedy))"
   ]
  },
  {
   "cell_type": "code",
   "execution_count": 9,
   "metadata": {},
   "outputs": [
    {
     "name": "stdout",
     "output_type": "stream",
     "text": [
      "UCB average reward 0.18625\n"
     ]
    }
   ],
   "source": [
    "mab = UCB(10, 1.0)\n",
    "results_UCB = offlineEvaluate(mab, arms, rewards, contexts, 800)\n",
    "print('UCB average reward', np.mean(results_UCB))"
   ]
  },
  {
   "cell_type": "code",
   "execution_count": 10,
   "metadata": {},
   "outputs": [
    {
     "name": "stdout",
     "output_type": "stream",
     "text": [
      "BetaThompson average reward 0.20375\n"
     ]
    }
   ],
   "source": [
    "mab = BetaThompson(10, 1.0, 1.0)\n",
    "results_BetaThompson = offlineEvaluate(mab, arms, rewards, contexts, 800)\n",
    "print('BetaThompson average reward', np.mean(results_BetaThompson))"
   ]
  },
  {
   "cell_type": "markdown",
   "metadata": {},
   "source": [
    "## 4. Contextual Bandits - LinUCB"
   ]
  },
  {
   "cell_type": "code",
   "execution_count": 11,
   "metadata": {},
   "outputs": [],
   "source": [
    "class LinUCB(MAB):   # with disjoint linear models (for each arm)\n",
    "    \"\"\"\n",
    "    Contextual multi-armed bandit (LinUCB)\n",
    "\n",
    "    Arguments\n",
    "    =========\n",
    "    narms : int\n",
    "        number of arms\n",
    "\n",
    "    ndims : int\n",
    "        number of dimensions for each arm's context\n",
    "\n",
    "    alpha : float\n",
    "        positive real explore-exploit parameter\n",
    "    \"\"\"\n",
    "    \n",
    "    def __init__(self, narms, ndims, alpha):\n",
    "        # store params\n",
    "        self.narms = narms\n",
    "        self.ndims = ndims\n",
    "        self.alpha = alpha\n",
    "        \n",
    "        # params for each arm\n",
    "        self.A = {}\n",
    "        self.b = {}\n",
    "        \n",
    "        # initialise\n",
    "        for i in range(1, narms + 1):\n",
    "            self.A[i] = np.identity(ndims)\n",
    "            self.b[i] = np.zeros(ndims).reshape(ndims, 1)  # as a column vector\n",
    "        \n",
    "    def play(self, tround, context):\n",
    "        \n",
    "        contexts = context.reshape(self.narms, self.ndims)\n",
    "        \n",
    "        # calculate UCB for each arm\n",
    "        UCBs = {}\n",
    "        for i in range(1, self.narms + 1):\n",
    "            # context for arm i\n",
    "            arm_context = contexts[i-1].reshape(self.ndims, 1)\n",
    "            \n",
    "            theta = np.dot(inv(self.A[i]),self.b[i])  # coefficients\n",
    "            estimate = np.dot(theta.T, arm_context)\n",
    "            ci_width = self.alpha * np.sqrt(np.dot(arm_context.T, inv(self.A[i])).dot(arm_context))\n",
    "            UCBs[i] = (estimate + ci_width)[0][0]  # convert matrix with one element only into that value\n",
    "                \n",
    "        # exploit\n",
    "        max_item = max(UCBs.items(), key=lambda x : x[1])\n",
    "\n",
    "        # find all arms with max UCBs\n",
    "        all_keys = []\n",
    "        for key, value in UCBs.items():\n",
    "            if value == max_item[1]:\n",
    "                all_keys.append(key)\n",
    "\n",
    "        # break tie randomly\n",
    "        return np.random.choice(all_keys)\n",
    "        \n",
    "    def update(self, arm, reward, context):\n",
    "        \n",
    "        contexts = context.reshape(self.narms, self.ndims)\n",
    "        arm_context = contexts[arm-1].reshape(self.ndims, 1)\n",
    "        \n",
    "        # update matrix A and vector b\n",
    "        self.A[arm] += np.dot(arm_context, arm_context.T)\n",
    "        self.b[arm] += reward*arm_context\n",
    "        "
   ]
  },
  {
   "cell_type": "code",
   "execution_count": 12,
   "metadata": {},
   "outputs": [
    {
     "name": "stdout",
     "output_type": "stream",
     "text": [
      "LinUCB average reward 0.53\n"
     ]
    }
   ],
   "source": [
    "mab = LinUCB(10, 10, 1.0)\n",
    "results_LinUCB = offlineEvaluate(mab, arms, rewards, contexts, 800)\n",
    "print('LinUCB average reward', np.mean(results_LinUCB))"
   ]
  },
  {
   "cell_type": "markdown",
   "metadata": {},
   "source": [
    "## 5. Contextual Bandits - LinThompson"
   ]
  },
  {
   "cell_type": "code",
   "execution_count": 13,
   "metadata": {},
   "outputs": [],
   "source": [
    "class LinThompson(MAB):\n",
    "    \"\"\"\n",
    "    Contextual Thompson sampled multi-armed bandit (LinThompson)\n",
    "\n",
    "    Arguments\n",
    "    =========\n",
    "    narms : int\n",
    "        number of arms\n",
    "\n",
    "    ndims : int\n",
    "        number of dimensions for each arm's context\n",
    "\n",
    "    v : float\n",
    "        positive real explore-exploit parameter\n",
    "    \"\"\"\n",
    "    \n",
    "    def __init__(self, narms, ndims, v):\n",
    "        # store params\n",
    "        self.narms = narms\n",
    "        self.ndims = ndims\n",
    "        self.v = v\n",
    "        \n",
    "        # initialisation\n",
    "        self.B = np.identity(ndims)\n",
    "        self.mu_hat = np.zeros(ndims).reshape(ndims, 1)\n",
    "        self.f = np.zeros(ndims).reshape(ndims, 1)\n",
    "        \n",
    "    def play(self, tround, context):\n",
    "        \n",
    "        contexts = context.reshape(self.narms, self.ndims)\n",
    "        \n",
    "        # sampling from multivariate normal distribution\n",
    "        mu_sample = np.random.multivariate_normal(self.mu_hat.reshape(self.ndims), (self.v**2)*inv(self.B))\n",
    "        \n",
    "        # get estimates of rewards\n",
    "        estimates = {}\n",
    "        for i in range(1, self.narms + 1):\n",
    "            arm_context = contexts[i-1].reshape(self.ndims, 1)\n",
    "            estimates[i] = np.dot(arm_context.T, mu_sample)\n",
    "        \n",
    "        # exploit\n",
    "        max_item = max(estimates.items(), key=lambda x : x[1])\n",
    "\n",
    "        # find all arms with max thetas\n",
    "        all_keys = []\n",
    "        for key, value in estimates.items():\n",
    "            if value == max_item[1]:\n",
    "                all_keys.append(key)\n",
    "\n",
    "        # break tie randomly\n",
    "        return np.random.choice(all_keys) \n",
    "    \n",
    "    def update(self, arm, reward, context):\n",
    "        contexts = context.reshape(self.narms, self.ndims)\n",
    "        arm_context = contexts[arm-1].reshape(self.ndims, 1)\n",
    "        \n",
    "        # update values\n",
    "        self.B += np.dot(arm_context, arm_context.T)\n",
    "        self.f += arm_context*reward\n",
    "        self.mu_hat = np.dot(inv(self.B), self.f)\n"
   ]
  },
  {
   "cell_type": "code",
   "execution_count": 14,
   "metadata": {},
   "outputs": [
    {
     "name": "stdout",
     "output_type": "stream",
     "text": [
      "LinThompson average reward 0.32125\n"
     ]
    }
   ],
   "source": [
    "mab = LinThompson(10, 10, 1.0)\n",
    "results_LinThompson = offlineEvaluate(mab, arms, rewards, contexts, 800)\n",
    "print('LinThompson average reward', np.mean(results_LinThompson))"
   ]
  },
  {
   "cell_type": "markdown",
   "metadata": {},
   "source": [
    "## 6. Evaluation\n",
    "### 6.A."
   ]
  },
  {
   "cell_type": "code",
   "execution_count": 15,
   "metadata": {},
   "outputs": [],
   "source": [
    "def per_round_cumulative(results):\n",
    "    \n",
    "    cumulative_award = []\n",
    "    \n",
    "    for i in range(1, len(results) + 1):\n",
    "        cumulative_award.append(np.mean(results[:i]))  # cumulative \n",
    "        \n",
    "    return cumulative_award"
   ]
  },
  {
   "cell_type": "code",
   "execution_count": 16,
   "metadata": {},
   "outputs": [
    {
     "data": {
      "image/png": "[encoded data removed]",
      "text/plain": [
       "<Figure size 432x288 with 1 Axes>"
      ]
     },
     "metadata": {
      "needs_background": "light"
     },
     "output_type": "display_data"
    }
   ],
   "source": [
    "x = [i for i in range(1, len(results_LinThompson) + 1)]\n",
    "\n",
    "# use previous results\n",
    "y_EpsGreedy = per_round_cumulative(results_EpsGreedy)\n",
    "y_UCB = per_round_cumulative(results_UCB)\n",
    "y_BetaThompson = per_round_cumulative(results_BetaThompson)\n",
    "y_LinUCB = per_round_cumulative(results_LinUCB)\n",
    "y_LinThompson = per_round_cumulative(results_LinThompson)\n",
    "\n",
    "# plot curves\n",
    "plt.plot(x, y_EpsGreedy, label = \"EpsGreedy\")\n",
    "plt.plot(x, y_UCB, label = \"UCB\")\n",
    "plt.plot(x, y_BetaThompson, label = \"BetaThompson\")\n",
    "plt.plot(x, y_LinUCB, label = \"LinUCB\")\n",
    "plt.plot(x, y_LinThompson, label = \"LinThompson\")\n",
    "\n",
    "# labels\n",
    "plt.xlabel(\"Round\")\n",
    "plt.ylabel(\"Per-round Cumulative Award\")\n",
    "plt.legend()\n",
    "plt.show()"
   ]
  },
  {
   "cell_type": "markdown",
   "metadata": {},
   "source": [
    "### 6.B."
   ]
  },
  {
   "cell_type": "markdown",
   "metadata": {},
   "source": [
    "## LinUCB\n",
    "From the WWW’2010 paper, the author used grid search to find the best value for alpha in 0 to 1.5. Therefore, same range is used over here for tunning. (Note: alpha should be > 0 as stated in the paper, including the result for alpha=0 here is just for better visualisation)"
   ]
  },
  {
   "cell_type": "code",
   "execution_count": 17,
   "metadata": {},
   "outputs": [
    {
     "name": "stdout",
     "output_type": "stream",
     "text": [
      "Best alpha value for LinUCB:  0.05\n"
     ]
    }
   ],
   "source": [
    "# initial grid search for LinUCB\n",
    "linUCB_rewards = []\n",
    "alphas = np.arange(0, 1.55, 0.05)\n",
    "for alpha in alphas:\n",
    "    mab = LinUCB(10, 10, alpha)\n",
    "    results_LinUCB = offlineEvaluate(mab, arms, rewards, contexts, 800)\n",
    "    linUCB_rewards.append(np.mean(results_LinUCB))\n",
    "print(\"Best alpha value for LinUCB: \", alphas[np.argmax(linUCB_rewards)])"
   ]
  },
  {
   "cell_type": "code",
   "execution_count": 18,
   "metadata": {
    "scrolled": true
   },
   "outputs": [
    {
     "data": {
      "image/png": "[encoded data removed]",
      "text/plain": [
       "<Figure size 432x288 with 1 Axes>"
      ]
     },
     "metadata": {
      "needs_background": "light"
     },
     "output_type": "display_data"
    }
   ],
   "source": [
    "# plot\n",
    "plt.plot(alphas, linUCB_rewards)\n",
    "plt.xlabel(\"alpha\")\n",
    "plt.ylabel(\"LinUCB average reward\")\n",
    "plt.show()"
   ]
  },
  {
   "cell_type": "markdown",
   "metadata": {},
   "source": [
    "It seems that the best alpha for LinUCB lies between 0.0 and 0.2 (exclusive), we can use grid search again to find a better value for alpha."
   ]
  },
  {
   "cell_type": "code",
   "execution_count": 19,
   "metadata": {},
   "outputs": [
    {
     "name": "stdout",
     "output_type": "stream",
     "text": [
      "Best alpha value for LinUCB:  0.02\n"
     ]
    }
   ],
   "source": [
    "# initial grid search for LinUCB\n",
    "linUCB_rewards = []\n",
    "alphas = np.arange(0, 0.2, 0.01)\n",
    "for alpha in alphas:\n",
    "    mab = LinUCB(10, 10, alpha)\n",
    "    results_LinUCB = offlineEvaluate(mab, arms, rewards, contexts, 800)\n",
    "    linUCB_rewards.append(np.mean(results_LinUCB))\n",
    "print(\"Best alpha value for LinUCB: \", alphas[np.argmax(linUCB_rewards)])"
   ]
  },
  {
   "cell_type": "code",
   "execution_count": 20,
   "metadata": {},
   "outputs": [
    {
     "data": {
      "image/png": "[encoded data removed]",
      "text/plain": [
       "<Figure size 432x288 with 1 Axes>"
      ]
     },
     "metadata": {
      "needs_background": "light"
     },
     "output_type": "display_data"
    }
   ],
   "source": [
    "# plot\n",
    "plt.plot(alphas, linUCB_rewards)\n",
    "plt.xlabel(\"alpha\")\n",
    "plt.ylabel(\"LinUCB average reward\")\n",
    "plt.show()"
   ]
  },
  {
   "cell_type": "markdown",
   "metadata": {},
   "source": [
    "Then we can try the values from 0.01 to 0.03 (exclusive)"
   ]
  },
  {
   "cell_type": "code",
   "execution_count": 37,
   "metadata": {},
   "outputs": [
    {
     "name": "stdout",
     "output_type": "stream",
     "text": [
      "Best alpha value for LinUCB:  0.013999999999999997\n"
     ]
    }
   ],
   "source": [
    "# initial grid search for LinUCB\n",
    "linUCB_rewards = []\n",
    "alphas = np.arange(0.01, 0.03, 0.001)\n",
    "for alpha in alphas:\n",
    "    mab = LinUCB(10, 10, alpha)\n",
    "    results_LinUCB = offlineEvaluate(mab, arms, rewards, contexts, 800)\n",
    "    linUCB_rewards.append(np.mean(results_LinUCB))\n",
    "print(\"Best alpha value for LinUCB: \", alphas[np.argmax(linUCB_rewards)])"
   ]
  },
  {
   "cell_type": "code",
   "execution_count": 38,
   "metadata": {},
   "outputs": [
    {
     "data": {
      "image/png": "[encoded data removed]",
      "text/plain": [
       "<Figure size 432x288 with 1 Axes>"
      ]
     },
     "metadata": {
      "needs_background": "light"
     },
     "output_type": "display_data"
    }
   ],
   "source": [
    "# plot\n",
    "plt.plot(alphas, linUCB_rewards)\n",
    "plt.xlabel(\"alpha\")\n",
    "plt.ylabel(\"LinUCB average reward\")\n",
    "plt.show()"
   ]
  },
  {
   "cell_type": "markdown",
   "metadata": {},
   "source": [
    "In conclusion, the best value for alpha is 0.014"
   ]
  },
  {
   "cell_type": "markdown",
   "metadata": {},
   "source": [
    "## LinThmpson\n",
    "Although we know v must be greater than 0, there is no guidance for tuning the value of v in ICML’2013 paper. So, we should first find a reasonable range for v."
   ]
  },
  {
   "cell_type": "code",
   "execution_count": 21,
   "metadata": {},
   "outputs": [
    {
     "name": "stdout",
     "output_type": "stream",
     "text": [
      "Best v value for LinThompson:  0.01\n"
     ]
    }
   ],
   "source": [
    "# initial grid search for LinThompson\n",
    "linThompson_rewards = []\n",
    "vs = [1e-4, 1e-3, 1e-2, 1e-1, 1, 10, 100]\n",
    "for v in vs:\n",
    "    mab = LinThompson(10, 10, v)\n",
    "    results_LinThompson = offlineEvaluate(mab, arms, rewards, contexts, 800)\n",
    "    linThompson_rewards.append(np.mean(results_LinThompson))\n",
    "print(\"Best v value for LinThompson: \", vs[np.argmax(linThompson_rewards)])"
   ]
  },
  {
   "cell_type": "code",
   "execution_count": 22,
   "metadata": {},
   "outputs": [
    {
     "data": {
      "image/png": "[encoded data removed]",
      "text/plain": [
       "<Figure size 432x288 with 1 Axes>"
      ]
     },
     "metadata": {
      "needs_background": "light"
     },
     "output_type": "display_data"
    }
   ],
   "source": [
    "# plot\n",
    "plt.plot(vs, linThompson_rewards)\n",
    "plt.xlabel(\"v\")\n",
    "plt.ylabel(\"LinThompson average reward\")\n",
    "plt.show()"
   ]
  },
  {
   "cell_type": "markdown",
   "metadata": {},
   "source": [
    "It seems that the best v for LinThompson lies between 0.0 and 5.0 (exclusive), we can use grid search again to find a better value for v."
   ]
  },
  {
   "cell_type": "code",
   "execution_count": 23,
   "metadata": {},
   "outputs": [
    {
     "name": "stdout",
     "output_type": "stream",
     "text": [
      "Best v value for LinThompson:  0.5\n"
     ]
    }
   ],
   "source": [
    "# grid search for LinThompson\n",
    "linThompson_rewards = []\n",
    "vs = np.arange(0, 5, 0.5)\n",
    "for v in vs:\n",
    "    mab = LinThompson(10, 10, v)\n",
    "    results_LinThompson = offlineEvaluate(mab, arms, rewards, contexts, 800)\n",
    "    linThompson_rewards.append(np.mean(results_LinThompson))\n",
    "print(\"Best v value for LinThompson: \", vs[np.argmax(linThompson_rewards)])"
   ]
  },
  {
   "cell_type": "code",
   "execution_count": 24,
   "metadata": {
    "scrolled": true
   },
   "outputs": [
    {
     "data": {
      "image/png": "[encoded data removed]",
      "text/plain": [
       "<Figure size 432x288 with 1 Axes>"
      ]
     },
     "metadata": {
      "needs_background": "light"
     },
     "output_type": "display_data"
    }
   ],
   "source": [
    "# plot\n",
    "plt.plot(vs, linThompson_rewards)\n",
    "plt.xlabel(\"v\")\n",
    "plt.ylabel(\"LinThompson average reward\")\n",
    "plt.show()"
   ]
  },
  {
   "cell_type": "markdown",
   "metadata": {},
   "source": [
    "We can do this again for interval between 0.0 and 1.0 (exclusive)"
   ]
  },
  {
   "cell_type": "code",
   "execution_count": 30,
   "metadata": {},
   "outputs": [
    {
     "name": "stdout",
     "output_type": "stream",
     "text": [
      "Best v value for LinThompson:  0.05\n"
     ]
    }
   ],
   "source": [
    "# grid search for LinThompson\n",
    "linThompson_rewards = []\n",
    "vs = np.arange(0, 1.0, 0.05)\n",
    "for v in vs:\n",
    "    mab = LinThompson(10, 10, v)\n",
    "    results_LinThompson = offlineEvaluate(mab, arms, rewards, contexts, 800)\n",
    "    linThompson_rewards.append(np.mean(results_LinThompson))\n",
    "print(\"Best v value for LinThompson: \", vs[np.argmax(linThompson_rewards)])"
   ]
  },
  {
   "cell_type": "code",
   "execution_count": 31,
   "metadata": {
    "scrolled": true
   },
   "outputs": [
    {
     "data": {
      "image/png": "[encoded data removed]",
      "text/plain": [
       "<Figure size 432x288 with 1 Axes>"
      ]
     },
     "metadata": {
      "needs_background": "light"
     },
     "output_type": "display_data"
    }
   ],
   "source": [
    "# plot\n",
    "plt.plot(vs, linThompson_rewards)\n",
    "plt.xlabel(\"v\")\n",
    "plt.ylabel(\"LinThompson average reward\")\n",
    "plt.show()"
   ]
  },
  {
   "cell_type": "markdown",
   "metadata": {},
   "source": [
    "Then, try v between 0.0 and 0.1 (exclusive)"
   ]
  },
  {
   "cell_type": "code",
   "execution_count": 32,
   "metadata": {},
   "outputs": [
    {
     "name": "stdout",
     "output_type": "stream",
     "text": [
      "Best v value for LinThompson:  0.04\n"
     ]
    }
   ],
   "source": [
    "# grid search for LinThompson\n",
    "linThompson_rewards = []\n",
    "vs = np.arange(0, 0.1, 0.01)\n",
    "for v in vs:\n",
    "    mab = LinThompson(10, 10, v)\n",
    "    results_LinThompson = offlineEvaluate(mab, arms, rewards, contexts, 800)\n",
    "    linThompson_rewards.append(np.mean(results_LinThompson))\n",
    "print(\"Best v value for LinThompson: \", vs[np.argmax(linThompson_rewards)])"
   ]
  },
  {
   "cell_type": "code",
   "execution_count": 33,
   "metadata": {},
   "outputs": [
    {
     "data": {
      "image/png": "[encoded data removed]",
      "text/plain": [
       "<Figure size 432x288 with 1 Axes>"
      ]
     },
     "metadata": {
      "needs_background": "light"
     },
     "output_type": "display_data"
    }
   ],
   "source": [
    "# plot\n",
    "plt.plot(vs, linThompson_rewards)\n",
    "plt.xlabel(\"v\")\n",
    "plt.ylabel(\"LinThompson average reward\")\n",
    "plt.show()"
   ]
  },
  {
   "cell_type": "markdown",
   "metadata": {},
   "source": [
    "In conclusion, the best value for v is 0.04"
   ]
  }
 ],
 "metadata": {
  "kernelspec": {
   "display_name": "Python 3",
   "language": "python",
   "name": "python3"
  },
  "language_info": {
   "codemirror_mode": {
    "name": "ipython",
    "version": 3
   },
   "file_extension": ".py",
   "mimetype": "text/x-python",
   "name": "python",
   "nbconvert_exporter": "python",
   "pygments_lexer": "ipython3",
   "version": "3.7.3"
  }
 },
 "nbformat": 4,
 "nbformat_minor": 2
}
