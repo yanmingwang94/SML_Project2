{
 "cells": [
  {
   "cell_type": "markdown",
   "metadata": {},
   "source": [
    "# COMP90051 Project 2"
   ]
  },
  {
   "cell_type": "code",
   "execution_count": 1,
   "metadata": {},
   "outputs": [],
   "source": [
    "# Do not edit. These are the only imports permitted.\n",
    "%matplotlib inline\n",
    "import numpy as np\n",
    "from numpy.linalg import inv\n",
    "import matplotlib.pyplot as plt\n",
    "from abc import ABC, abstractmethod"
   ]
  },
  {
   "cell_type": "markdown",
   "metadata": {},
   "source": [
    "## Load dataset"
   ]
  },
  {
   "cell_type": "code",
   "execution_count": 2,
   "metadata": {},
   "outputs": [],
   "source": [
    "arms = []\n",
    "rewards = []\n",
    "contexts = []\n",
    "\n",
    "with open(\"dataset.txt\", \"r\") as f:\n",
    "    for line in f:\n",
    "        row = line[:-2].split(\" \")\n",
    "        arms.append(int(row[0]))\n",
    "        rewards.append(int(row[1]))\n",
    "        contexts.append(np.array(row[2:], dtype='float64'))"
   ]
  },
  {
   "cell_type": "markdown",
   "metadata": {},
   "source": [
    "## 1. Implementing ε-Greedy and UCB"
   ]
  },
  {
   "cell_type": "code",
   "execution_count": 3,
   "metadata": {},
   "outputs": [],
   "source": [
    "class MAB(ABC):\n",
    "    \"\"\"\n",
    "    Abstract class that represents a multi-armed bandit (MAB)\n",
    "    \"\"\"\n",
    "    \n",
    "    @abstractmethod\n",
    "    def play(self, tround, context):\n",
    "        \"\"\"\n",
    "        Play a round\n",
    "        \n",
    "        Arguments\n",
    "        =========\n",
    "        tround : int\n",
    "            positive integer identifying the round\n",
    "        \n",
    "        context : 1D float array, shape (self.ndims * self.narms), optional\n",
    "            context given to the arms\n",
    "        \n",
    "        Returns\n",
    "        =======\n",
    "        arm : int\n",
    "            the positive integer arm id for this round\n",
    "        \"\"\"\n",
    "    \n",
    "    @abstractmethod\n",
    "    def update(self, arm, reward, context):\n",
    "        \"\"\"\n",
    "        Updates the internal state of the MAB after a play\n",
    "        \n",
    "        Arguments\n",
    "        =========\n",
    "        arm : int\n",
    "            a positive integer arm id in {1, ..., self.narms}\n",
    "        \n",
    "        reward : float\n",
    "            reward received from arm\n",
    "        \n",
    "        context : 1D float array, shape (self.ndims * self.narms), optional\n",
    "            context given to arms\n",
    "        \"\"\""
   ]
  },
  {
   "cell_type": "code",
   "execution_count": 4,
   "metadata": {},
   "outputs": [],
   "source": [
    "class EpsGreedy(MAB): # sub-class of abstract MAB base class\n",
    "    \"\"\"\n",
    "    Epsilon-Greedy multi-armed bandit\n",
    "\n",
    "    Arguments\n",
    "    =========\n",
    "    narms : int\n",
    "        number of arms\n",
    "\n",
    "    epsilon : float\n",
    "        explore probability\n",
    "\n",
    "    Q0 : float, optional\n",
    "        initial value for the arms\n",
    "    \"\"\"\n",
    "    \n",
    "    def __init__(self, narms, epsilon, Q0=np.inf):\n",
    "        # initialise parameters\n",
    "        self.narms = narms\n",
    "        self.epsilon = epsilon\n",
    "        \n",
    "        self.avg_rewards = {}\n",
    "        self.round_count = {}\n",
    "        \n",
    "        # initialise rewards as Q0\n",
    "        for i in range(1, narms + 1):\n",
    "            self.avg_rewards[i] = Q0\n",
    "        \n",
    "    def play(self, tround, context=None):\n",
    "        \n",
    "        # random number between 0 and 1\n",
    "        choice = np.random.random()\n",
    "        \n",
    "        if choice < self.epsilon:\n",
    "            # explore\n",
    "            return np.random.randint(1, self.narms - 1)\n",
    "        else:\n",
    "            # exploit\n",
    "            max_item = max(self.avg_rewards.items(), key=lambda x : x[1])\n",
    "            \n",
    "            # find all arms with max avg rewards\n",
    "            all_keys = []\n",
    "            for key, value in self.avg_rewards.items():\n",
    "                if value == max_item[1]:\n",
    "                    all_keys.append(key)\n",
    "            \n",
    "            # break tie randomly\n",
    "            random_index = np.random.randint(0, len(all_keys))\n",
    "            \n",
    "            return all_keys[random_index]\n",
    "        \n",
    "    def update(self, arm, reward, context=None):\n",
    "        \n",
    "        if arm not in self.round_count:\n",
    "            # first time pulled\n",
    "            self.avg_rewards[arm] = reward\n",
    "            self.round_count[arm] = 1\n",
    "        else:\n",
    "            round_num = self.round_count[arm]\n",
    "            prev_reward_tot = self.avg_rewards[arm]*round_num\n",
    "            \n",
    "            # update\n",
    "            self.avg_rewards[arm] = (prev_reward_tot + reward) / (round_num + 1)\n",
    "            self.round_count[arm] += 1"
   ]
  },
  {
   "cell_type": "code",
   "execution_count": 5,
   "metadata": {},
   "outputs": [],
   "source": [
    "class UCB(MAB):\n",
    "    \"\"\"\n",
    "    Upper Confidence Bound (UCB) multi-armed bandit\n",
    "\n",
    "    Arguments\n",
    "    =========\n",
    "    narms : int\n",
    "        number of arms\n",
    "\n",
    "    rho : float\n",
    "        positive real explore-exploit parameter\n",
    "\n",
    "    Q0 : float, optional\n",
    "        initial value for the arms\n",
    "    \"\"\"\n",
    "    \n",
    "    def __init__(self, narms, rho, Q0=np.inf):\n",
    "        # initialise parameters\n",
    "        self.narms = narms\n",
    "        self.rho = rho\n",
    "        \n",
    "        self.avg_rewards = {}\n",
    "        self.round_count = {}\n",
    "        self.UCBs = {}\n",
    "        \n",
    "        # initialise rewards as Q0\n",
    "        for i in range(1, narms + 1):\n",
    "            self.UCBs[i] = Q0\n",
    "    \n",
    "    def play(self, tround, context=None):\n",
    "        \n",
    "        # Calculate all UCBs from average rewards\n",
    "        for key, value in self.avg_rewards.items():\n",
    "            self.UCBs[key] = value + np.sqrt(self.rho * np.log(tround) / self.round_count[key])\n",
    "        \n",
    "        # exploit\n",
    "        max_item = max(self.UCBs.items(), key=lambda x : x[1])\n",
    "\n",
    "        # find all arms with max UCBs\n",
    "        all_keys = []\n",
    "        for key, value in self.UCBs.items():\n",
    "            if value == max_item[1]:\n",
    "                all_keys.append(key)\n",
    "\n",
    "        # break tie randomly\n",
    "        random_index = np.random.randint(0, len(all_keys))\n",
    "\n",
    "        return all_keys[random_index]\n",
    "        \n",
    "        \n",
    "    def update(self, arm, reward, context=None):\n",
    "        \n",
    "        if arm not in self.round_count:\n",
    "            # first time pulled\n",
    "            self.avg_rewards[arm] = reward\n",
    "            self.round_count[arm] = 1\n",
    "            \n",
    "        else:\n",
    "            round_num = self.round_count[arm]\n",
    "            prev_reward_tot = self.avg_rewards[arm]*round_num\n",
    "            \n",
    "            # update\n",
    "            self.avg_rewards[arm] = (prev_reward_tot + reward) / (round_num + 1)\n",
    "            self.round_count[arm] += 1\n",
    "    "
   ]
  },
  {
   "cell_type": "markdown",
   "metadata": {},
   "source": [
    "## 2. The Basic Thompson Bandit"
   ]
  },
  {
   "cell_type": "code",
   "execution_count": 6,
   "metadata": {},
   "outputs": [],
   "source": [
    "class BetaThompson(MAB):\n",
    "    \"\"\"\n",
    "    Beta-Bernoulli Thompson sampling multi-armed bandit\n",
    "\n",
    "    Arguments\n",
    "    =========\n",
    "    narms : int\n",
    "        number of arms\n",
    "\n",
    "    alpha0 : float, optional\n",
    "        positive real prior hyperparameter\n",
    "\n",
    "    beta0 : float, optional\n",
    "        positive real prior hyperparameter\n",
    "    \"\"\"\n",
    "    \n",
    "    def __init__(self, narms, alpha0=1.0, beta0=1.0):\n",
    "        self.alpha0 = alpha0\n",
    "        self.beta0 = beta0\n",
    "        self.narms = narms\n",
    "        self.S = {}\n",
    "        self.F = {}\n",
    "        for i in range(1, narms + 1):\n",
    "            self.S[i] = 0\n",
    "            self.F[i] = 0\n",
    "    \n",
    "    def play(self, tround, context=None):\n",
    "        \n",
    "        theta = {}\n",
    "        \n",
    "        for i in range(1, self.narms + 1):    \n",
    "            # sampling from beta distribution\n",
    "            theta[i] = np.random.beta(self.alpha0 + self.S[i], self.beta0 + self.F[i], 1)\n",
    "            \n",
    "        # exploit\n",
    "        max_item = max(theta.items(), key=lambda x : x[1])\n",
    "\n",
    "        # find all arms with max thetas\n",
    "        all_keys = []\n",
    "        for key, value in theta.items():\n",
    "            if value == max_item[1]:\n",
    "                all_keys.append(key)\n",
    "\n",
    "        # break tie randomly\n",
    "        random_index = np.random.randint(0, len(all_keys))\n",
    "\n",
    "        return all_keys[random_index]\n",
    "        \n",
    "    def update(self, arm, reward, context=None):\n",
    "        if reward == 1:\n",
    "            self.S[arm] += 1\n",
    "        else:\n",
    "            self.F[arm] += 1"
   ]
  },
  {
   "cell_type": "markdown",
   "metadata": {},
   "source": [
    "## 3. Off-Policy Evaluation"
   ]
  },
  {
   "cell_type": "code",
   "execution_count": 7,
   "metadata": {},
   "outputs": [],
   "source": [
    "def offlineEvaluate(mab, arms, rewards, contexts, nrounds=None):\n",
    "    \"\"\"\n",
    "    Offline evaluation of a multi-armed bandit\n",
    "    \n",
    "    Arguments\n",
    "    =========\n",
    "    mab : instance of MAB\n",
    "    \n",
    "    arms : 1D int array, shape (nevents,) \n",
    "        integer arm id for each event\n",
    "    \n",
    "    rewards : 1D float array, shape (nevents,)\n",
    "        reward received for each event\n",
    "    \n",
    "    contexts : 2D float array, shape (nevents, mab.narms*nfeatures)\n",
    "        contexts presented to the arms (stacked horizontally) \n",
    "        for each event.\n",
    "        \n",
    "    nrounds : int, optional\n",
    "        number of matching events to evaluate `mab` on.\n",
    "    \n",
    "    Returns\n",
    "    =======\n",
    "    out : 1D float array\n",
    "        rewards for the matching events\n",
    "    \"\"\"\n",
    "    \n",
    "    stream_idx = 0\n",
    "    n_events = len(rewards)\n",
    "    mab_rewards = []\n",
    "    \n",
    "    for tround in range(1, nrounds + 1):\n",
    "        \n",
    "        selected_arm = mab.play(tround, contexts[stream_idx])\n",
    "        \n",
    "        # play until both policies get same arm\n",
    "        while(selected_arm != arms[stream_idx]):\n",
    "            \n",
    "            # get next event\n",
    "            stream_idx += 1\n",
    "            stream_idx = stream_idx % n_events\n",
    "            \n",
    "            # play again\n",
    "            selected_arm = mab.play(tround, contexts[stream_idx])\n",
    "        \n",
    "        # update history and store reward\n",
    "        mab.update(arms[stream_idx], rewards[stream_idx],contexts[stream_idx])\n",
    "        mab_rewards.append(rewards[stream_idx])   \n",
    "        \n",
    "    return mab_rewards"
   ]
  },
  {
   "cell_type": "code",
   "execution_count": 8,
   "metadata": {},
   "outputs": [
    {
     "name": "stdout",
     "output_type": "stream",
     "text": [
      "EpsGreedy average reward 0.42625\n"
     ]
    }
   ],
   "source": [
    "mab = EpsGreedy(10, 0.05)\n",
    "results_EpsGreedy = offlineEvaluate(mab, arms, rewards, contexts, 800)\n",
    "print('EpsGreedy average reward', np.mean(results_EpsGreedy))"
   ]
  },
  {
   "cell_type": "code",
   "execution_count": 9,
   "metadata": {},
   "outputs": [
    {
     "name": "stdout",
     "output_type": "stream",
     "text": [
      "UCB average reward 0.885\n"
     ]
    }
   ],
   "source": [
    "mab = UCB(10, 1.0)\n",
    "results_UCB = offlineEvaluate(mab, arms, rewards, contexts, 800)\n",
    "print('UCB average reward', np.mean(results_UCB))"
   ]
  },
  {
   "cell_type": "code",
   "execution_count": 10,
   "metadata": {},
   "outputs": [
    {
     "name": "stdout",
     "output_type": "stream",
     "text": [
      "BetaThompson average reward 0.58125\n"
     ]
    }
   ],
   "source": [
    "mab = BetaThompson(10, 1.0, 1.0)\n",
    "results_BetaThompson = offlineEvaluate(mab, arms, rewards, contexts, 800)\n",
    "print('BetaThompson average reward', np.mean(results_BetaThompson))"
   ]
  },
  {
   "cell_type": "markdown",
   "metadata": {},
   "source": [
    "## 4. Contextual Bandits - LinUCB"
   ]
  },
  {
   "cell_type": "code",
   "execution_count": 11,
   "metadata": {},
   "outputs": [],
   "source": [
    "class LinUCB(MAB):\n",
    "    \"\"\"\n",
    "    Contextual multi-armed bandit (LinUCB)\n",
    "\n",
    "    Arguments\n",
    "    =========\n",
    "    narms : int\n",
    "        number of arms\n",
    "\n",
    "    ndims : int\n",
    "        number of dimensions for each arm's context\n",
    "\n",
    "    alpha : float\n",
    "        positive real explore-exploit parameter\n",
    "    \"\"\"\n",
    "    \n",
    "    def __init__(self, narms, ndims, alpha):\n",
    "        \n",
    "        self.narms = narms\n",
    "        self.ndims = ndims\n",
    "        self.alpha = alpha\n",
    "        \n",
    "        self.A = {}\n",
    "        self.b = {}\n",
    "        self.theta = {}\n",
    "        \n",
    "        # initialise\n",
    "        for i in range(1, narms + 1):\n",
    "            self.A[i] = np.identity(ndims)\n",
    "            self.b[i] = np.zeros(ndims).reshape(ndims, 1)  # column vector\n",
    "            self.theta[i] = 0\n",
    "        \n",
    "    def play(self, tround, context):\n",
    "        \n",
    "        contexts = context.reshape(self.narms, self.ndims)\n",
    "        \n",
    "        # calculate UCB for each arm\n",
    "        UCBs = {}\n",
    "        for i in range(1, self.narms + 1):\n",
    "            \n",
    "            arm_context = contexts[i-1].reshape(self.ndims, 1)\n",
    "            \n",
    "            theta = np.dot(inv(self.A[i]),self.b[i])\n",
    "            estimate = np.dot(theta.T, arm_context)\n",
    "            ci_width = self.alpha * np.sqrt(np.dot(arm_context.T, inv(self.A[i])).dot(arm_context))\n",
    "            UCBs[i] = (estimate + ci_width)[0][0]  # convert matrix with one element only into that value\n",
    "                \n",
    "        # exploit\n",
    "        max_item = max(UCBs.items(), key=lambda x : x[1])\n",
    "\n",
    "        # find all arms with max UCBs\n",
    "        all_keys = []\n",
    "        for key, value in UCBs.items():\n",
    "            if value == max_item[1]:\n",
    "                all_keys.append(key)\n",
    "\n",
    "        # break tie randomly\n",
    "        random_index = np.random.randint(0, len(all_keys))\n",
    "\n",
    "        return all_keys[random_index]\n",
    "        \n",
    "    def update(self, arm, reward, context):\n",
    "        \n",
    "        contexts = context.reshape(self.narms, self.ndims)\n",
    "        arm_context = contexts[arm-1].reshape(self.ndims, 1)\n",
    "        \n",
    "        # update matrix A and vector b\n",
    "        self.A[arm] += np.dot(arm_context, arm_context.T)\n",
    "        self.b[arm] += reward*arm_context\n",
    "        "
   ]
  },
  {
   "cell_type": "code",
   "execution_count": 12,
   "metadata": {},
   "outputs": [
    {
     "name": "stdout",
     "output_type": "stream",
     "text": [
      "LinUCB average reward 0.86375\n"
     ]
    }
   ],
   "source": [
    "mab = LinUCB(10, 10, 1.0)\n",
    "results_LinUCB = offlineEvaluate(mab, arms, rewards, contexts, 800)\n",
    "print('LinUCB average reward', np.mean(results_LinUCB))"
   ]
  },
  {
   "cell_type": "markdown",
   "metadata": {},
   "source": [
    "## 5. Contextual Bandits - LinThompson"
   ]
  },
  {
   "cell_type": "code",
   "execution_count": 51,
   "metadata": {},
   "outputs": [],
   "source": [
    "class LinThompson(MAB):\n",
    "    \"\"\"\n",
    "    Contextual Thompson sampled multi-armed bandit (LinThompson)\n",
    "\n",
    "    Arguments\n",
    "    =========\n",
    "    narms : int\n",
    "        number of arms\n",
    "\n",
    "    ndims : int\n",
    "        number of dimensions for each arm's context\n",
    "\n",
    "    v : float\n",
    "        positive real explore-exploit parameter\n",
    "    \"\"\"\n",
    "    \n",
    "    def __init__(self, narms, ndims, v):\n",
    "        # parameters\n",
    "        self.narms = narms\n",
    "        self.ndims = ndims\n",
    "        self.v = v\n",
    "        \n",
    "        # initialisation\n",
    "        self.B = np.identity(ndims)\n",
    "        self.mu_hat = np.zeros(ndims).reshape(ndims, 1)\n",
    "        self.f = np.zeros(ndims).reshape(ndims, 1)\n",
    "        \n",
    "    def play(self, tround, context):\n",
    "        \n",
    "        contexts = context.reshape(self.narms, self.ndims)\n",
    "        \n",
    "        # sampling from normal distribution\n",
    "        mu_sample = np.random.multivariate_normal(self.mu_hat.reshape(self.ndims), (self.v**2)*inv(self.B))\n",
    "        \n",
    "        # get estimates of rewards\n",
    "        estimates = {}\n",
    "        for i in range(1, self.narms + 1):\n",
    "            arm_context = contexts[i-1].reshape(self.ndims, 1)\n",
    "            estimates[i] = np.dot(arm_context.T, mu_sample)\n",
    "        \n",
    "        # exploit\n",
    "        max_item = max(estimates.items(), key=lambda x : x[1])\n",
    "\n",
    "        # find all arms with max thetas\n",
    "        all_keys = []\n",
    "        for key, value in estimates.items():\n",
    "            if value == max_item[1]:\n",
    "                all_keys.append(key)\n",
    "\n",
    "        # break tie randomly\n",
    "        random_index = np.random.randint(0, len(all_keys))\n",
    "\n",
    "        return all_keys[random_index]    \n",
    "    \n",
    "    def update(self, arm, reward, context):\n",
    "        contexts = context.reshape(self.narms, self.ndims)\n",
    "        arm_context = contexts[arm-1].reshape(self.ndims, 1)\n",
    "        \n",
    "        # update values\n",
    "        self.B += np.dot(arm_context, arm_context.T)\n",
    "        self.f += arm_context*reward\n",
    "        self.mu_hat = np.dot(inv(self.B), self.f)\n"
   ]
  },
  {
   "cell_type": "code",
   "execution_count": 52,
   "metadata": {},
   "outputs": [
    {
     "name": "stdout",
     "output_type": "stream",
     "text": [
      "LinThompson average reward 0.87875\n"
     ]
    }
   ],
   "source": [
    "mab = LinThompson(10, 10, 1.0)\n",
    "results_LinThompson = offlineEvaluate(mab, arms, rewards, contexts, 800)\n",
    "print('LinThompson average reward', np.mean(results_LinThompson))"
   ]
  },
  {
   "cell_type": "markdown",
   "metadata": {},
   "source": [
    "## 6. Evaluation\n",
    "### 6.A."
   ]
  },
  {
   "cell_type": "code",
   "execution_count": null,
   "metadata": {},
   "outputs": [],
   "source": [
    "plt(x,y)"
   ]
  },
  {
   "cell_type": "markdown",
   "metadata": {},
   "source": [
    "### 6.B."
   ]
  },
  {
   "cell_type": "code",
   "execution_count": null,
   "metadata": {},
   "outputs": [],
   "source": []
  }
 ],
 "metadata": {
  "kernelspec": {
   "display_name": "Python 3",
   "language": "python",
   "name": "python3"
  },
  "language_info": {
   "codemirror_mode": {
    "name": "ipython",
    "version": 3
   },
   "file_extension": ".py",
   "mimetype": "text/x-python",
   "name": "python",
   "nbconvert_exporter": "python",
   "pygments_lexer": "ipython3",
   "version": "3.7.3"
  }
 },
 "nbformat": 4,
 "nbformat_minor": 2
}
